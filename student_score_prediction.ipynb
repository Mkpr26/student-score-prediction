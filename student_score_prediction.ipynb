{
  "cells": [
    {
      "cell_type": "code",
      "execution_count": 1,
      "metadata": {
        "colab": {
          "base_uri": "https://localhost:8080/"
        },
        "id": "mX_Yk8PRW57B",
        "outputId": "ce6630d6-687a-48b3-ca27-1cf8f978b09b"
      },
      "outputs": [
        {
          "name": "stdout",
          "output_type": "stream",
          "text": [
            "library loaded Successfully\n"
          ]
        }
      ],
      "source": [
        "import pandas as pd\n",
        "import numpy as np\n",
        "import matplotlib.pyplot as plt\n",
        "import seaborn as sns\n",
        "from sklearn.linear_model import LinearRegression # ML data\n",
        "from sklearn.model_selection import train_test_split #to split data\n",
        "from sklearn.metrics import mean_absolute_error, mean_squared_error, r2_score #to evaluate modelaccuracy\n",
        "\n",
        "print(\"library loaded Successfully\")"
      ]
    },
    {
      "cell_type": "code",
      "execution_count": 2,
      "metadata": {
        "colab": {
          "base_uri": "https://localhost:8080/"
        },
        "id": "PYQjHYe8YN-O",
        "outputId": "ac47665e-62d0-4ede-9849-23392be52530"
      },
      "outputs": [
        {
          "name": "stdout",
          "output_type": "stream",
          "text": [
            "Dataset Preview: \n",
            "   Hours  Scores\n",
            "0    1.5      20\n",
            "1    2.0      30\n",
            "2    2.5      35\n",
            "3    3.0      40\n",
            "4    3.5      50\n"
          ]
        }
      ],
      "source": [
        "data = {\n",
        "    \"Hours\": [1.5, 2.0, 2.5, 3.0, 3.5, 4.0, 4.5, 5.0, 6.0, 7.0, 8.0],\n",
        "    \"Scores\": [20, 30, 35, 40, 50, 55, 65, 70, 80, 85, 90]\n",
        "}\n",
        "df = pd.DataFrame(data)\n",
        "print(\"Dataset Preview: \")\n",
        "print(df.head())"
      ]
    },
    {
      "cell_type": "code",
      "execution_count": 3,
      "metadata": {
        "colab": {
          "base_uri": "https://localhost:8080/",
          "height": 472
        },
        "id": "aiJRSMqyY2MK",
        "outputId": "9ee35d55-51cf-4ffe-d066-d98a4d930eb5"
      },
      "outputs": [
        {
          "data": {
            "image/png": "[encoded data removed]",
            "text/plain": [
              "<Figure size 640x480 with 1 Axes>"
            ]
          },
          "metadata": {},
          "output_type": "display_data"
        }
      ],
      "source": [
        "plt.scatter(df[\"Hours\"],df[\"Scores\"] , color = \"Blue\")\n",
        "plt.title(\"Hours vs Scores\")\n",
        "plt.xlabel(\"Hours\")\n",
        "plt.ylabel(\"scores\")\n",
        "plt.grid(True)\n",
        "plt.show()"
      ]
    },
    {
      "cell_type": "code",
      "execution_count": 4,
      "metadata": {
        "colab": {
          "base_uri": "https://localhost:8080/"
        },
        "id": "y9MJGwLIZYYe",
        "outputId": "6527f0b2-f19c-46b3-d47d-5d36e8caa5b9"
      },
      "outputs": [
        {
          "name": "stdout",
          "output_type": "stream",
          "text": [
            "Data split into train and test sets!\n",
            "Training Samples :  8\n",
            "Testing Samples :  3\n"
          ]
        }
      ],
      "source": [
        "X = df[[\"Hours\"]] # double brackets t make it a dataframe(2D)\n",
        "y= df[\"Scores\"]\n",
        "X_Train,X_Test,y_Train,y_Test = train_test_split(X,y,test_size=0.2,random_state=42)\n",
        "print(\"Data split into train and test sets!\")\n",
        "print(\"Training Samples : \" , len(X_Train))\n",
        "print(\"Testing Samples : \" , len(X_Test))\n"
      ]
    },
    {
      "cell_type": "code",
      "execution_count": 5,
      "metadata": {
        "colab": {
          "base_uri": "https://localhost:8080/"
        },
        "id": "fUge4iCfb4w3",
        "outputId": "952aa366-9170-46f4-b624-1e01dadfc383"
      },
      "outputs": [
        {
          "name": "stdout",
          "output_type": "stream",
          "text": [
            "Model has been trained successfully!\n"
          ]
        }
      ],
      "source": [
        "model = LinearRegression()\n",
        "model.fit(X_Train,y_Train)\n",
        "print(\"Model has been trained successfully!\")"
      ]
    },
    {
      "cell_type": "code",
      "execution_count": 6,
      "metadata": {
        "colab": {
          "base_uri": "https://localhost:8080/"
        },
        "id": "dbWG42NydIAN",
        "outputId": "acd69e23-4577-4c2b-9ac4-2234d55fcfa2"
      },
      "outputs": [
        {
          "name": "stdout",
          "output_type": "stream",
          "text": [
            "slope(m): [10.77094972]\n",
            "intercept(b):  11.05027932960894\n"
          ]
        }
      ],
      "source": [
        "print(f\"slope(m): {model.coef_}\")\n",
        "print(f\"intercept(b):  {model.intercept_}\")"
      ]
    },
    {
      "cell_type": "code",
      "execution_count": 7,
      "metadata": {
        "colab": {
          "base_uri": "https://localhost:8080/"
        },
        "id": "HR8aZt5_dflj",
        "outputId": "41fb6073-deac-42e7-9011-2f102d60ae21"
      },
      "outputs": [
        {
          "name": "stdout",
          "output_type": "stream",
          "text": [
            "Actual Vs Predicted : \n",
            "   Actual  predicted\n",
            "0      55  54.134078\n",
            "1      20  27.206704\n",
            "2      85  86.446927\n"
          ]
        }
      ],
      "source": [
        "y_pred = model.predict(X_Test)\n",
        "\n",
        "results = pd.DataFrame({\n",
        "\"Actual\": y_Test.values,\n",
        "\"predicted\":y_pred\n",
        "})\n",
        "print(\"Actual Vs Predicted : \")\n",
        "\n",
        "print(results)"
      ]
    },
    {
      "cell_type": "code",
      "execution_count": 8,
      "metadata": {
        "colab": {
          "base_uri": "https://localhost:8080/"
        },
        "id": "NB4PHK47etKs",
        "outputId": "66972457-0f17-474b-eb7e-61b92190b7a7"
      },
      "outputs": [
        {
          "name": "stdout",
          "output_type": "stream",
          "text": [
            "Mean Absolute Error (MAE): 3.1731843575419014\n",
            "R-squared (R2): 0.9741196847444723\n",
            "Mean Squared Error (MSE): 18.260000208066767\n"
          ]
        }
      ],
      "source": [
        "mae = mean_absolute_error(y_Test,y_pred)\n",
        "r2 = r2_score(y_Test,y_pred)\n",
        "mse = mean_squared_error(y_Test,y_pred)\n",
        "\n",
        "\n",
        "print(f\"Mean Absolute Error (MAE): {mae}\")\n",
        "print(f\"R-squared (R2): {r2}\")\n",
        "print(f\"Mean Squared Error (MSE): {mse}\")"
      ]
    },
    {
      "cell_type": "code",
      "execution_count": 9,
      "metadata": {
        "colab": {
          "base_uri": "https://localhost:8080/",
          "height": 472
        },
        "id": "8s0UYDbYfDUo",
        "outputId": "e6ef1eb4-53a2-469f-ec96-6bdf20c56842"
      },
      "outputs": [
        {
          "data": {
            "image/png": "[encoded data removed]",
            "text/plain": [
              "<Figure size 640x480 with 1 Axes>"
            ]
          },
          "metadata": {},
          "output_type": "display_data"
        }
      ],
      "source": [
        "#step 8: plotting the regression line over the data points\n",
        "\n",
        "plt.scatter(X,y,color ='blue',label='Actual Data')\n",
        "plt.plot(X,model.predict(X),color ='r' , label = 'Regression Line')\n",
        "plt.title(\"Best fit line : Hours Vs Scores\")\n",
        "plt.xlabel(\"Hours\")\n",
        "plt.ylabel(\"Score\")\n",
        "plt.legend()\n",
        "plt.grid(True)\n",
        "plt.show()"
      ]
    },
    {
      "cell_type": "code",
      "execution_count": 10,
      "metadata": {
        "colab": {
          "base_uri": "https://localhost:8080/"
        },
        "id": "ui0wa1B4ghsZ",
        "outputId": "75b1ad91-84ce-42fd-8698-6b1037382649"
      },
      "outputs": [
        {
          "name": "stdout",
          "output_type": "stream",
          "text": [
            "If a student studies 6.5 hours, predicted score is 81.06\n"
          ]
        },
        {
          "name": "stderr",
          "output_type": "stream",
          "text": [
            "/home/codespace/.local/lib/python3.12/site-packages/sklearn/utils/validation.py:2749: UserWarning: X does not have valid feature names, but LinearRegression was fitted with feature names\n",
            "  warnings.warn(\n"
          ]
        }
      ],
      "source": [
        "hours = 6.5\n",
        "predicted_score = model.predict([[hours]])\n",
        "print(f\"If a student studies {hours} hours, predicted score is {predicted_score[0]:.2f}\")\n"
      ]
    },
    {
      "cell_type": "code",
      "execution_count": 11,
      "metadata": {
        "id": "lpX-A4gvg4M2"
      },
      "outputs": [],
      "source": [
        "import pickle\n",
        "\n",
        "with open(\"model.pkl\", \"wb\") as f:\n",
        "    pickle.dump(model, f)\n"
      ]
    },
    {
      "cell_type": "code",
      "execution_count": null,
      "metadata": {},
      "outputs": [],
      "source": []
    }
  ],
  "metadata": {
    "colab": {
      "provenance": []
    },
    "kernelspec": {
      "display_name": "Python 3",
      "name": "python3"
    },
    "language_info": {
      "codemirror_mode": {
        "name": "ipython",
        "version": 3
      },
      "file_extension": ".py",
      "mimetype": "text/x-python",
      "name": "python",
      "nbconvert_exporter": "python",
      "pygments_lexer": "ipython3",
      "version": "3.12.1"
    }
  },
  "nbformat": 4,
  "nbformat_minor": 0
}
